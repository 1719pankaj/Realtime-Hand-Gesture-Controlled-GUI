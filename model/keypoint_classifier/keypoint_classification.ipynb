{
  "nbformat": 4,
  "nbformat_minor": 0,
  "metadata": {
    "kernelspec": {
      "display_name": "Python 3",
      "language": "python",
      "name": "python3"
    },
    "language_info": {
      "codemirror_mode": {
        "name": "ipython",
        "version": 3
      },
      "file_extension": ".py",
      "mimetype": "text/x-python",
      "name": "python",
      "nbconvert_exporter": "python",
      "pygments_lexer": "ipython3",
      "version": "3.9.2"
    },
    "colab": {
      "name": "keypoint_classification_EN.ipynb",
      "provenance": [],
      "collapsed_sections": [],
      "toc_visible": true
    },
    "accelerator": "GPU"
  },
  "cells": [
    {
      "cell_type": "code",
      "metadata": {
        "id": "igMyGnjE9hEp"
      },
      "source": [
        "import csv\n",
        "\n",
        "import numpy as np\n",
        "import tensorflow as tf\n",
        "from sklearn.model_selection import train_test_split\n",
        "\n",
        "RANDOM_SEED = 42"
      ],
      "execution_count": 78,
      "outputs": []
    },
    {
      "cell_type": "markdown",
      "metadata": {
        "id": "t2HDvhIu9hEr"
      },
      "source": [
        "# Specify each path"
      ]
    },
    {
      "cell_type": "code",
      "metadata": {
        "id": "9NvZP2Zn9hEy"
      },
      "source": [
        "dataset = 'keypoint.csv'#'model/keypoint_classifier/keypoint.csv'\n",
        "model_save_path = 'keypoint_classifier.hdf5'#'model/keypoint_classifier/keypoint_classifier.hdf5'\n",
        "tflite_save_path = 'keypoint_classifier.tflite'#'model/keypoint_classifier/keypoint_classifier.tflite'"
      ],
      "execution_count": 80,
      "outputs": []
    },
    {
      "cell_type": "markdown",
      "metadata": {
        "id": "s5oMH7x19hEz"
      },
      "source": [
        "# Set number of classes"
      ]
    },
    {
      "cell_type": "code",
      "metadata": {
        "id": "du4kodXL9hEz"
      },
      "source": [
        "NUM_CLASSES = 5"
      ],
      "execution_count": 82,
      "outputs": []
    },
    {
      "cell_type": "markdown",
      "metadata": {
        "id": "XjnL0uso9hEz"
      },
      "source": [
        "# Dataset reading"
      ]
    },
    {
      "cell_type": "code",
      "metadata": {
        "id": "QT5ZqtEz9hE0"
      },
      "source": [
        "X_dataset = np.loadtxt(dataset, delimiter=',', dtype='float32', usecols=list(range(1, (21 * 2) + 1)))"
      ],
      "execution_count": 84,
      "outputs": []
    },
    {
      "cell_type": "code",
      "metadata": {
        "id": "QmoKFsp49hE0"
      },
      "source": [
        "y_dataset = np.loadtxt(dataset, delimiter=',', dtype='int32', usecols=(0))"
      ],
      "execution_count": 86,
      "outputs": []
    },
    {
      "cell_type": "code",
      "metadata": {
        "id": "xQU7JTZ_9hE0"
      },
      "source": [
        "X_train, X_test, y_train, y_test = train_test_split(X_dataset, y_dataset, train_size=0.75, random_state=RANDOM_SEED)"
      ],
      "execution_count": 88,
      "outputs": []
    },
    {
      "cell_type": "markdown",
      "metadata": {
        "id": "mxK_lETT9hE0"
      },
      "source": [
        "# Model building"
      ]
    },
    {
      "cell_type": "code",
      "metadata": {
        "id": "vHBmUf1t9hE1"
      },
      "source": [
        "model = tf.keras.models.Sequential([\n",
        "    tf.keras.layers.Input((21 * 2, )),\n",
        "    tf.keras.layers.Dropout(0.2),\n",
        "    tf.keras.layers.Dense(20, activation='relu'),\n",
        "    tf.keras.layers.Dropout(0.4),\n",
        "    tf.keras.layers.Dense(10, activation='relu'),\n",
        "    tf.keras.layers.Dense(NUM_CLASSES, activation='softmax')\n",
        "])"
      ],
      "execution_count": 90,
      "outputs": [
        {
          "output_type": "stream",
          "name": "stdout",
          "text": [
            "WARNING:tensorflow:Please add `keras.layers.InputLayer` instead of `keras.Input` to Sequential model. `keras.Input` is intended to be used by Functional model.\n",
            "WARNING:tensorflow:Please add `keras.layers.InputLayer` instead of `keras.Input` to Sequential model. `keras.Input` is intended to be used by Functional model.\n"
          ]
        }
      ]
    },
    {
      "cell_type": "code",
      "metadata": {
        "id": "ypqky9tc9hE1",
        "colab": {
          "base_uri": "https://localhost:8080/"
        },
        "outputId": "5db082bb-30e3-4110-bf63-a1ee777ecd46"
      },
      "source": [
        "model.summary()  # tf.keras.utils.plot_model(model, show_shapes=True)"
      ],
      "execution_count": 92,
      "outputs": [
        {
          "output_type": "stream",
          "name": "stdout",
          "text": [
            "Model: \"sequential_4\"\n_________________________________________________________________\nLayer (type)                 Output Shape              Param #   \n=================================================================\ndropout_8 (Dropout)          (None, 42)                0         \n_________________________________________________________________\ndense_12 (Dense)             (None, 20)                860       \n_________________________________________________________________\ndropout_9 (Dropout)          (None, 20)                0         \n_________________________________________________________________\ndense_13 (Dense)             (None, 10)                210       \n_________________________________________________________________\ndense_14 (Dense)             (None, 5)                 55        \n=================================================================\nTotal params: 1,125\nTrainable params: 1,125\nNon-trainable params: 0\n_________________________________________________________________\n"
          ]
        }
      ]
    },
    {
      "cell_type": "code",
      "metadata": {
        "id": "MbMjOflQ9hE1"
      },
      "source": [
        "# Model checkpoint callback\n",
        "cp_callback = tf.keras.callbacks.ModelCheckpoint(\n",
        "    model_save_path, verbose=1, save_weights_only=False)\n",
        "# Callback for early stopping\n",
        "es_callback = tf.keras.callbacks.EarlyStopping(patience=20, verbose=1)"
      ],
      "execution_count": 94,
      "outputs": []
    },
    {
      "cell_type": "code",
      "metadata": {
        "id": "c3Dac0M_9hE2"
      },
      "source": [
        "# Model compilation\n",
        "model.compile(\n",
        "    optimizer='adam',\n",
        "    loss='sparse_categorical_crossentropy',\n",
        "    metrics=['accuracy']\n",
        ")"
      ],
      "execution_count": 96,
      "outputs": []
    },
    {
      "cell_type": "markdown",
      "metadata": {
        "id": "7XI0j1Iu9hE2"
      },
      "source": [
        "# Model training"
      ]
    },
    {
      "cell_type": "code",
      "metadata": {
        "scrolled": true,
        "id": "WirBl-JE9hE3",
        "colab": {
          "base_uri": "https://localhost:8080/"
        },
        "outputId": "71b30ca2-8294-4d9d-8aa2-800d90d399de",
        "tags": [
          "outputPrepend"
        ]
      },
      "source": [
        "model.fit(\n",
        "    X_train,\n",
        "    y_train,\n",
        "    epochs=1000,\n",
        "    batch_size=128,\n",
        "    validation_data=(X_test, y_test),\n",
        "    callbacks=[cp_callback, es_callback]\n",
        ")"
      ],
      "execution_count": 98,
      "outputs": [
        {
          "output_type": "stream",
          "name": "stdout",
          "text": [
            "00\n",
            "7/7 [==============================] - 0s 11ms/step - loss: 0.4877 - accuracy: 0.8135 - val_loss: 0.2975 - val_accuracy: 0.9574\n",
            "\n",
            "Epoch 00224: saving model to keypoint_classifier.hdf5\n",
            "Epoch 225/1000\n",
            "7/7 [==============================] - 0s 11ms/step - loss: 0.5353 - accuracy: 0.7801 - val_loss: 0.2945 - val_accuracy: 0.9535\n",
            "\n",
            "Epoch 00225: saving model to keypoint_classifier.hdf5\n",
            "Epoch 226/1000\n",
            "7/7 [==============================] - 0s 10ms/step - loss: 0.5147 - accuracy: 0.7994 - val_loss: 0.2904 - val_accuracy: 0.9225\n",
            "\n",
            "Epoch 00226: saving model to keypoint_classifier.hdf5\n",
            "Epoch 227/1000\n",
            "7/7 [==============================] - 0s 11ms/step - loss: 0.5495 - accuracy: 0.7713 - val_loss: 0.2880 - val_accuracy: 0.9109\n",
            "\n",
            "Epoch 00227: saving model to keypoint_classifier.hdf5\n",
            "Epoch 228/1000\n",
            "7/7 [==============================] - 0s 12ms/step - loss: 0.5115 - accuracy: 0.7808 - val_loss: 0.2853 - val_accuracy: 0.9264\n",
            "\n",
            "Epoch 00228: saving model to keypoint_classifier.hdf5\n",
            "Epoch 229/1000\n",
            "7/7 [==============================] - 0s 11ms/step - loss: 0.5053 - accuracy: 0.7839 - val_loss: 0.2796 - val_accuracy: 0.9419\n",
            "\n",
            "Epoch 00229: saving model to keypoint_classifier.hdf5\n",
            "Epoch 230/1000\n",
            "7/7 [==============================] - 0s 12ms/step - loss: 0.4848 - accuracy: 0.8211 - val_loss: 0.2718 - val_accuracy: 0.9535\n",
            "\n",
            "Epoch 00230: saving model to keypoint_classifier.hdf5\n",
            "Epoch 231/1000\n",
            "7/7 [==============================] - 0s 13ms/step - loss: 0.5155 - accuracy: 0.7855 - val_loss: 0.2699 - val_accuracy: 0.9574\n",
            "\n",
            "Epoch 00231: saving model to keypoint_classifier.hdf5\n",
            "Epoch 232/1000\n",
            "7/7 [==============================] - 0s 11ms/step - loss: 0.4957 - accuracy: 0.8023 - val_loss: 0.2677 - val_accuracy: 0.9574\n",
            "\n",
            "Epoch 00232: saving model to keypoint_classifier.hdf5\n",
            "Epoch 233/1000\n",
            "7/7 [==============================] - 0s 12ms/step - loss: 0.5304 - accuracy: 0.7940 - val_loss: 0.2714 - val_accuracy: 0.9574\n",
            "\n",
            "Epoch 00233: saving model to keypoint_classifier.hdf5\n",
            "Epoch 234/1000\n",
            "7/7 [==============================] - 0s 10ms/step - loss: 0.5039 - accuracy: 0.7918 - val_loss: 0.2723 - val_accuracy: 0.9341\n",
            "\n",
            "Epoch 00234: saving model to keypoint_classifier.hdf5\n",
            "Epoch 235/1000\n",
            "7/7 [==============================] - 0s 11ms/step - loss: 0.4888 - accuracy: 0.7967 - val_loss: 0.2697 - val_accuracy: 0.9535\n",
            "\n",
            "Epoch 00235: saving model to keypoint_classifier.hdf5\n",
            "Epoch 236/1000\n",
            "7/7 [==============================] - 0s 12ms/step - loss: 0.5036 - accuracy: 0.7945 - val_loss: 0.2749 - val_accuracy: 0.9225\n",
            "\n",
            "Epoch 00236: saving model to keypoint_classifier.hdf5\n",
            "Epoch 237/1000\n",
            "7/7 [==============================] - 0s 11ms/step - loss: 0.4971 - accuracy: 0.8006 - val_loss: 0.2802 - val_accuracy: 0.9147\n",
            "\n",
            "Epoch 00237: saving model to keypoint_classifier.hdf5\n",
            "Epoch 238/1000\n",
            "7/7 [==============================] - 0s 11ms/step - loss: 0.5336 - accuracy: 0.7922 - val_loss: 0.2820 - val_accuracy: 0.9535\n",
            "\n",
            "Epoch 00238: saving model to keypoint_classifier.hdf5\n",
            "Epoch 239/1000\n",
            "7/7 [==============================] - 0s 11ms/step - loss: 0.5562 - accuracy: 0.7737 - val_loss: 0.2828 - val_accuracy: 0.9535\n",
            "\n",
            "Epoch 00239: saving model to keypoint_classifier.hdf5\n",
            "Epoch 240/1000\n",
            "7/7 [==============================] - 0s 10ms/step - loss: 0.5403 - accuracy: 0.8011 - val_loss: 0.2857 - val_accuracy: 0.9341\n",
            "\n",
            "Epoch 00240: saving model to keypoint_classifier.hdf5\n",
            "Epoch 241/1000\n",
            "7/7 [==============================] - 0s 11ms/step - loss: 0.4693 - accuracy: 0.8161 - val_loss: 0.2816 - val_accuracy: 0.9419\n",
            "\n",
            "Epoch 00241: saving model to keypoint_classifier.hdf5\n",
            "Epoch 242/1000\n",
            "7/7 [==============================] - 0s 10ms/step - loss: 0.5156 - accuracy: 0.8028 - val_loss: 0.2763 - val_accuracy: 0.9767\n",
            "\n",
            "Epoch 00242: saving model to keypoint_classifier.hdf5\n",
            "Epoch 243/1000\n",
            "7/7 [==============================] - 0s 11ms/step - loss: 0.5398 - accuracy: 0.7900 - val_loss: 0.2807 - val_accuracy: 0.9767\n",
            "\n",
            "Epoch 00243: saving model to keypoint_classifier.hdf5\n",
            "Epoch 244/1000\n",
            "7/7 [==============================] - 0s 11ms/step - loss: 0.5005 - accuracy: 0.7965 - val_loss: 0.2897 - val_accuracy: 0.9651\n",
            "\n",
            "Epoch 00244: saving model to keypoint_classifier.hdf5\n",
            "Epoch 245/1000\n",
            "7/7 [==============================] - 0s 10ms/step - loss: 0.4877 - accuracy: 0.8135 - val_loss: 0.2939 - val_accuracy: 0.9147\n",
            "\n",
            "Epoch 00245: saving model to keypoint_classifier.hdf5\n",
            "Epoch 246/1000\n",
            "7/7 [==============================] - 0s 18ms/step - loss: 0.5333 - accuracy: 0.7973 - val_loss: 0.3015 - val_accuracy: 0.8915\n",
            "\n",
            "Epoch 00246: saving model to keypoint_classifier.hdf5\n",
            "Epoch 247/1000\n",
            "7/7 [==============================] - 0s 12ms/step - loss: 0.4725 - accuracy: 0.7987 - val_loss: 0.3052 - val_accuracy: 0.8915\n",
            "\n",
            "Epoch 00247: saving model to keypoint_classifier.hdf5\n",
            "Epoch 248/1000\n",
            "7/7 [==============================] - 0s 9ms/step - loss: 0.4784 - accuracy: 0.8064 - val_loss: 0.2896 - val_accuracy: 0.9186\n",
            "\n",
            "Epoch 00248: saving model to keypoint_classifier.hdf5\n",
            "Epoch 249/1000\n",
            "7/7 [==============================] - 0s 14ms/step - loss: 0.5119 - accuracy: 0.8180 - val_loss: 0.2774 - val_accuracy: 0.9186\n",
            "\n",
            "Epoch 00249: saving model to keypoint_classifier.hdf5\n",
            "Epoch 250/1000\n",
            "7/7 [==============================] - 0s 25ms/step - loss: 0.4750 - accuracy: 0.8049 - val_loss: 0.2677 - val_accuracy: 0.9341\n",
            "\n",
            "Epoch 00250: saving model to keypoint_classifier.hdf5\n",
            "Epoch 251/1000\n",
            "7/7 [==============================] - 0s 12ms/step - loss: 0.4840 - accuracy: 0.8292 - val_loss: 0.2587 - val_accuracy: 0.9341\n",
            "\n",
            "Epoch 00251: saving model to keypoint_classifier.hdf5\n",
            "Epoch 252/1000\n",
            "7/7 [==============================] - 0s 11ms/step - loss: 0.4649 - accuracy: 0.8243 - val_loss: 0.2576 - val_accuracy: 0.9264\n",
            "\n",
            "Epoch 00252: saving model to keypoint_classifier.hdf5\n",
            "Epoch 253/1000\n",
            "7/7 [==============================] - 0s 11ms/step - loss: 0.5409 - accuracy: 0.8044 - val_loss: 0.2544 - val_accuracy: 0.9574\n",
            "\n",
            "Epoch 00253: saving model to keypoint_classifier.hdf5\n",
            "Epoch 254/1000\n",
            "7/7 [==============================] - 0s 11ms/step - loss: 0.5356 - accuracy: 0.7848 - val_loss: 0.2540 - val_accuracy: 0.9651\n",
            "\n",
            "Epoch 00254: saving model to keypoint_classifier.hdf5\n",
            "Epoch 255/1000\n",
            "7/7 [==============================] - 0s 11ms/step - loss: 0.5522 - accuracy: 0.7765 - val_loss: 0.2557 - val_accuracy: 0.9690\n",
            "\n",
            "Epoch 00255: saving model to keypoint_classifier.hdf5\n",
            "Epoch 256/1000\n",
            "7/7 [==============================] - 0s 11ms/step - loss: 0.5336 - accuracy: 0.7965 - val_loss: 0.2582 - val_accuracy: 0.9729\n",
            "\n",
            "Epoch 00256: saving model to keypoint_classifier.hdf5\n",
            "Epoch 257/1000\n",
            "7/7 [==============================] - 0s 10ms/step - loss: 0.4786 - accuracy: 0.8006 - val_loss: 0.2631 - val_accuracy: 0.9419\n",
            "\n",
            "Epoch 00257: saving model to keypoint_classifier.hdf5\n",
            "Epoch 258/1000\n",
            "7/7 [==============================] - 0s 11ms/step - loss: 0.5153 - accuracy: 0.8037 - val_loss: 0.2635 - val_accuracy: 0.9341\n",
            "\n",
            "Epoch 00258: saving model to keypoint_classifier.hdf5\n",
            "Epoch 259/1000\n",
            "7/7 [==============================] - 0s 14ms/step - loss: 0.5286 - accuracy: 0.7902 - val_loss: 0.2586 - val_accuracy: 0.9612\n",
            "\n",
            "Epoch 00259: saving model to keypoint_classifier.hdf5\n",
            "Epoch 260/1000\n",
            "7/7 [==============================] - 0s 10ms/step - loss: 0.4871 - accuracy: 0.8083 - val_loss: 0.2577 - val_accuracy: 0.9612\n",
            "\n",
            "Epoch 00260: saving model to keypoint_classifier.hdf5\n",
            "Epoch 261/1000\n",
            "7/7 [==============================] - 0s 10ms/step - loss: 0.4966 - accuracy: 0.8181 - val_loss: 0.2639 - val_accuracy: 0.9651\n",
            "\n",
            "Epoch 00261: saving model to keypoint_classifier.hdf5\n",
            "Epoch 262/1000\n",
            "7/7 [==============================] - 0s 11ms/step - loss: 0.4626 - accuracy: 0.8302 - val_loss: 0.2639 - val_accuracy: 0.9535\n",
            "\n",
            "Epoch 00262: saving model to keypoint_classifier.hdf5\n",
            "Epoch 263/1000\n",
            "7/7 [==============================] - 0s 10ms/step - loss: 0.4953 - accuracy: 0.8032 - val_loss: 0.2532 - val_accuracy: 0.9690\n",
            "\n",
            "Epoch 00263: saving model to keypoint_classifier.hdf5\n",
            "Epoch 264/1000\n",
            "7/7 [==============================] - 0s 10ms/step - loss: 0.5090 - accuracy: 0.7988 - val_loss: 0.2464 - val_accuracy: 0.9767\n",
            "\n",
            "Epoch 00264: saving model to keypoint_classifier.hdf5\n",
            "Epoch 265/1000\n",
            "7/7 [==============================] - 0s 11ms/step - loss: 0.4689 - accuracy: 0.8113 - val_loss: 0.2469 - val_accuracy: 0.9806\n",
            "\n",
            "Epoch 00265: saving model to keypoint_classifier.hdf5\n",
            "Epoch 266/1000\n",
            "7/7 [==============================] - 0s 13ms/step - loss: 0.4898 - accuracy: 0.7985 - val_loss: 0.2445 - val_accuracy: 0.9767\n",
            "\n",
            "Epoch 00266: saving model to keypoint_classifier.hdf5\n",
            "Epoch 267/1000\n",
            "7/7 [==============================] - 0s 11ms/step - loss: 0.4530 - accuracy: 0.8324 - val_loss: 0.2432 - val_accuracy: 0.9729\n",
            "\n",
            "Epoch 00267: saving model to keypoint_classifier.hdf5\n",
            "Epoch 268/1000\n",
            "7/7 [==============================] - 0s 12ms/step - loss: 0.4623 - accuracy: 0.7926 - val_loss: 0.2483 - val_accuracy: 0.9419\n",
            "\n",
            "Epoch 00268: saving model to keypoint_classifier.hdf5\n",
            "Epoch 269/1000\n",
            "7/7 [==============================] - 0s 11ms/step - loss: 0.4684 - accuracy: 0.8116 - val_loss: 0.2400 - val_accuracy: 0.9690\n",
            "\n",
            "Epoch 00269: saving model to keypoint_classifier.hdf5\n",
            "Epoch 270/1000\n",
            "7/7 [==============================] - 0s 11ms/step - loss: 0.4710 - accuracy: 0.8227 - val_loss: 0.2398 - val_accuracy: 0.9767\n",
            "\n",
            "Epoch 00270: saving model to keypoint_classifier.hdf5\n",
            "Epoch 271/1000\n",
            "7/7 [==============================] - 0s 10ms/step - loss: 0.4369 - accuracy: 0.8230 - val_loss: 0.2405 - val_accuracy: 0.9767\n",
            "\n",
            "Epoch 00271: saving model to keypoint_classifier.hdf5\n",
            "Epoch 272/1000\n",
            "7/7 [==============================] - 0s 11ms/step - loss: 0.4939 - accuracy: 0.8150 - val_loss: 0.2404 - val_accuracy: 0.9767\n",
            "\n",
            "Epoch 00272: saving model to keypoint_classifier.hdf5\n",
            "Epoch 273/1000\n",
            "7/7 [==============================] - 0s 11ms/step - loss: 0.4502 - accuracy: 0.8352 - val_loss: 0.2385 - val_accuracy: 0.9845\n",
            "\n",
            "Epoch 00273: saving model to keypoint_classifier.hdf5\n",
            "Epoch 274/1000\n",
            "7/7 [==============================] - 0s 11ms/step - loss: 0.4854 - accuracy: 0.8130 - val_loss: 0.2383 - val_accuracy: 0.9845\n",
            "\n",
            "Epoch 00274: saving model to keypoint_classifier.hdf5\n",
            "Epoch 275/1000\n",
            "7/7 [==============================] - 0s 11ms/step - loss: 0.5298 - accuracy: 0.7826 - val_loss: 0.2436 - val_accuracy: 0.9767\n",
            "\n",
            "Epoch 00275: saving model to keypoint_classifier.hdf5\n",
            "Epoch 276/1000\n",
            "7/7 [==============================] - 0s 10ms/step - loss: 0.4551 - accuracy: 0.8180 - val_loss: 0.2535 - val_accuracy: 0.9457\n",
            "\n",
            "Epoch 00276: saving model to keypoint_classifier.hdf5\n",
            "Epoch 277/1000\n",
            "7/7 [==============================] - 0s 11ms/step - loss: 0.4617 - accuracy: 0.8064 - val_loss: 0.2654 - val_accuracy: 0.9186\n",
            "\n",
            "Epoch 00277: saving model to keypoint_classifier.hdf5\n",
            "Epoch 278/1000\n",
            "7/7 [==============================] - 0s 10ms/step - loss: 0.4996 - accuracy: 0.7984 - val_loss: 0.2655 - val_accuracy: 0.9302\n",
            "\n",
            "Epoch 00278: saving model to keypoint_classifier.hdf5\n",
            "Epoch 279/1000\n",
            "7/7 [==============================] - 0s 10ms/step - loss: 0.4708 - accuracy: 0.7991 - val_loss: 0.2583 - val_accuracy: 0.9729\n",
            "\n",
            "Epoch 00279: saving model to keypoint_classifier.hdf5\n",
            "Epoch 280/1000\n",
            "7/7 [==============================] - 0s 11ms/step - loss: 0.4350 - accuracy: 0.8296 - val_loss: 0.2569 - val_accuracy: 0.9535\n",
            "\n",
            "Epoch 00280: saving model to keypoint_classifier.hdf5\n",
            "Epoch 281/1000\n",
            "7/7 [==============================] - 0s 11ms/step - loss: 0.4889 - accuracy: 0.7914 - val_loss: 0.2463 - val_accuracy: 0.9767\n",
            "\n",
            "Epoch 00281: saving model to keypoint_classifier.hdf5\n",
            "Epoch 282/1000\n",
            "7/7 [==============================] - 0s 11ms/step - loss: 0.4855 - accuracy: 0.8255 - val_loss: 0.2428 - val_accuracy: 0.9767\n",
            "\n",
            "Epoch 00282: saving model to keypoint_classifier.hdf5\n",
            "Epoch 283/1000\n",
            "7/7 [==============================] - 0s 10ms/step - loss: 0.4356 - accuracy: 0.8317 - val_loss: 0.2403 - val_accuracy: 0.9767\n",
            "\n",
            "Epoch 00283: saving model to keypoint_classifier.hdf5\n",
            "Epoch 284/1000\n",
            "7/7 [==============================] - 0s 10ms/step - loss: 0.4710 - accuracy: 0.8189 - val_loss: 0.2349 - val_accuracy: 0.9767\n",
            "\n",
            "Epoch 00284: saving model to keypoint_classifier.hdf5\n",
            "Epoch 285/1000\n",
            "7/7 [==============================] - 0s 10ms/step - loss: 0.4743 - accuracy: 0.8052 - val_loss: 0.2291 - val_accuracy: 0.9729\n",
            "\n",
            "Epoch 00285: saving model to keypoint_classifier.hdf5\n",
            "Epoch 286/1000\n",
            "7/7 [==============================] - 0s 11ms/step - loss: 0.4713 - accuracy: 0.8240 - val_loss: 0.2190 - val_accuracy: 0.9767\n",
            "\n",
            "Epoch 00286: saving model to keypoint_classifier.hdf5\n",
            "Epoch 287/1000\n",
            "7/7 [==============================] - 0s 15ms/step - loss: 0.4847 - accuracy: 0.8124 - val_loss: 0.2157 - val_accuracy: 0.9767\n",
            "\n",
            "Epoch 00287: saving model to keypoint_classifier.hdf5\n",
            "Epoch 288/1000\n",
            "7/7 [==============================] - 0s 13ms/step - loss: 0.5125 - accuracy: 0.7887 - val_loss: 0.2191 - val_accuracy: 0.9767\n",
            "\n",
            "Epoch 00288: saving model to keypoint_classifier.hdf5\n",
            "Epoch 289/1000\n",
            "7/7 [==============================] - 0s 11ms/step - loss: 0.4629 - accuracy: 0.8142 - val_loss: 0.2259 - val_accuracy: 0.9767\n",
            "\n",
            "Epoch 00289: saving model to keypoint_classifier.hdf5\n",
            "Epoch 290/1000\n",
            "7/7 [==============================] - 0s 11ms/step - loss: 0.4682 - accuracy: 0.8046 - val_loss: 0.2288 - val_accuracy: 0.9767\n",
            "\n",
            "Epoch 00290: saving model to keypoint_classifier.hdf5\n",
            "Epoch 291/1000\n",
            "7/7 [==============================] - 0s 10ms/step - loss: 0.4950 - accuracy: 0.8086 - val_loss: 0.2233 - val_accuracy: 0.9767\n",
            "\n",
            "Epoch 00291: saving model to keypoint_classifier.hdf5\n",
            "Epoch 292/1000\n",
            "7/7 [==============================] - 0s 10ms/step - loss: 0.4666 - accuracy: 0.8185 - val_loss: 0.2250 - val_accuracy: 0.9690\n",
            "\n",
            "Epoch 00292: saving model to keypoint_classifier.hdf5\n",
            "Epoch 293/1000\n",
            "7/7 [==============================] - 0s 11ms/step - loss: 0.5001 - accuracy: 0.8092 - val_loss: 0.2285 - val_accuracy: 0.9651\n",
            "\n",
            "Epoch 00293: saving model to keypoint_classifier.hdf5\n",
            "Epoch 294/1000\n",
            "7/7 [==============================] - 0s 11ms/step - loss: 0.4953 - accuracy: 0.7987 - val_loss: 0.2277 - val_accuracy: 0.9690\n",
            "\n",
            "Epoch 00294: saving model to keypoint_classifier.hdf5\n",
            "Epoch 295/1000\n",
            "7/7 [==============================] - 0s 11ms/step - loss: 0.4244 - accuracy: 0.8400 - val_loss: 0.2232 - val_accuracy: 0.9767\n",
            "\n",
            "Epoch 00295: saving model to keypoint_classifier.hdf5\n",
            "Epoch 296/1000\n",
            "7/7 [==============================] - 0s 11ms/step - loss: 0.4597 - accuracy: 0.8271 - val_loss: 0.2203 - val_accuracy: 0.9767\n",
            "\n",
            "Epoch 00296: saving model to keypoint_classifier.hdf5\n",
            "Epoch 297/1000\n",
            "7/7 [==============================] - 0s 10ms/step - loss: 0.4602 - accuracy: 0.8283 - val_loss: 0.2320 - val_accuracy: 0.9729\n",
            "\n",
            "Epoch 00297: saving model to keypoint_classifier.hdf5\n",
            "Epoch 298/1000\n",
            "7/7 [==============================] - 0s 13ms/step - loss: 0.4545 - accuracy: 0.8063 - val_loss: 0.2327 - val_accuracy: 0.9767\n",
            "\n",
            "Epoch 00298: saving model to keypoint_classifier.hdf5\n",
            "Epoch 299/1000\n",
            "7/7 [==============================] - 0s 17ms/step - loss: 0.4598 - accuracy: 0.8183 - val_loss: 0.2313 - val_accuracy: 0.9767\n",
            "\n",
            "Epoch 00299: saving model to keypoint_classifier.hdf5\n",
            "Epoch 300/1000\n",
            "7/7 [==============================] - 0s 14ms/step - loss: 0.4617 - accuracy: 0.8150 - val_loss: 0.2276 - val_accuracy: 0.9690\n",
            "\n",
            "Epoch 00300: saving model to keypoint_classifier.hdf5\n",
            "Epoch 301/1000\n",
            "7/7 [==============================] - 0s 15ms/step - loss: 0.4899 - accuracy: 0.8052 - val_loss: 0.2227 - val_accuracy: 0.9612\n",
            "\n",
            "Epoch 00301: saving model to keypoint_classifier.hdf5\n",
            "Epoch 302/1000\n",
            "7/7 [==============================] - 0s 12ms/step - loss: 0.4562 - accuracy: 0.8309 - val_loss: 0.2186 - val_accuracy: 0.9612\n",
            "\n",
            "Epoch 00302: saving model to keypoint_classifier.hdf5\n",
            "Epoch 303/1000\n",
            "7/7 [==============================] - 0s 12ms/step - loss: 0.4066 - accuracy: 0.8473 - val_loss: 0.2151 - val_accuracy: 0.9767\n",
            "\n",
            "Epoch 00303: saving model to keypoint_classifier.hdf5\n",
            "Epoch 304/1000\n",
            "7/7 [==============================] - 0s 13ms/step - loss: 0.4440 - accuracy: 0.8290 - val_loss: 0.2125 - val_accuracy: 0.9806\n",
            "\n",
            "Epoch 00304: saving model to keypoint_classifier.hdf5\n",
            "Epoch 305/1000\n",
            "7/7 [==============================] - 0s 15ms/step - loss: 0.4207 - accuracy: 0.8472 - val_loss: 0.2131 - val_accuracy: 0.9767\n",
            "\n",
            "Epoch 00305: saving model to keypoint_classifier.hdf5\n",
            "Epoch 306/1000\n",
            "7/7 [==============================] - 0s 18ms/step - loss: 0.4673 - accuracy: 0.8231 - val_loss: 0.2214 - val_accuracy: 0.9806\n",
            "\n",
            "Epoch 00306: saving model to keypoint_classifier.hdf5\n",
            "Epoch 307/1000\n",
            "7/7 [==============================] - 0s 7ms/step - loss: 0.4837 - accuracy: 0.8057 - val_loss: 0.2243 - val_accuracy: 0.9767\n",
            "\n",
            "Epoch 00307: saving model to keypoint_classifier.hdf5\n",
            "Epoch 308/1000\n",
            "7/7 [==============================] - 0s 9ms/step - loss: 0.4427 - accuracy: 0.8342 - val_loss: 0.2264 - val_accuracy: 0.9651\n",
            "\n",
            "Epoch 00308: saving model to keypoint_classifier.hdf5\n",
            "Epoch 309/1000\n",
            "7/7 [==============================] - 0s 13ms/step - loss: 0.4458 - accuracy: 0.8122 - val_loss: 0.2295 - val_accuracy: 0.9574\n",
            "\n",
            "Epoch 00309: saving model to keypoint_classifier.hdf5\n",
            "Epoch 310/1000\n",
            "7/7 [==============================] - 0s 18ms/step - loss: 0.4769 - accuracy: 0.8160 - val_loss: 0.2255 - val_accuracy: 0.9612\n",
            "\n",
            "Epoch 00310: saving model to keypoint_classifier.hdf5\n",
            "Epoch 311/1000\n",
            "7/7 [==============================] - 0s 15ms/step - loss: 0.4605 - accuracy: 0.8109 - val_loss: 0.2199 - val_accuracy: 0.9651\n",
            "\n",
            "Epoch 00311: saving model to keypoint_classifier.hdf5\n",
            "Epoch 312/1000\n",
            "7/7 [==============================] - 0s 9ms/step - loss: 0.4835 - accuracy: 0.8361 - val_loss: 0.2177 - val_accuracy: 0.9729\n",
            "\n",
            "Epoch 00312: saving model to keypoint_classifier.hdf5\n",
            "Epoch 313/1000\n",
            "7/7 [==============================] - 0s 11ms/step - loss: 0.4565 - accuracy: 0.8230 - val_loss: 0.2196 - val_accuracy: 0.9806\n",
            "\n",
            "Epoch 00313: saving model to keypoint_classifier.hdf5\n",
            "Epoch 314/1000\n",
            "7/7 [==============================] - 0s 7ms/step - loss: 0.4367 - accuracy: 0.8187 - val_loss: 0.2197 - val_accuracy: 0.9884\n",
            "\n",
            "Epoch 00314: saving model to keypoint_classifier.hdf5\n",
            "Epoch 315/1000\n",
            "7/7 [==============================] - 0s 12ms/step - loss: 0.4780 - accuracy: 0.8163 - val_loss: 0.2209 - val_accuracy: 0.9922\n",
            "\n",
            "Epoch 00315: saving model to keypoint_classifier.hdf5\n",
            "Epoch 316/1000\n",
            "7/7 [==============================] - 0s 7ms/step - loss: 0.4494 - accuracy: 0.8267 - val_loss: 0.2241 - val_accuracy: 0.9884\n",
            "\n",
            "Epoch 00316: saving model to keypoint_classifier.hdf5\n",
            "Epoch 317/1000\n",
            "7/7 [==============================] - 0s 7ms/step - loss: 0.4419 - accuracy: 0.8152 - val_loss: 0.2221 - val_accuracy: 0.9845\n",
            "\n",
            "Epoch 00317: saving model to keypoint_classifier.hdf5\n",
            "Epoch 318/1000\n",
            "7/7 [==============================] - 0s 7ms/step - loss: 0.4794 - accuracy: 0.8087 - val_loss: 0.2195 - val_accuracy: 0.9651\n",
            "\n",
            "Epoch 00318: saving model to keypoint_classifier.hdf5\n",
            "Epoch 319/1000\n",
            "7/7 [==============================] - 0s 7ms/step - loss: 0.4601 - accuracy: 0.8152 - val_loss: 0.2195 - val_accuracy: 0.9651\n",
            "\n",
            "Epoch 00319: saving model to keypoint_classifier.hdf5\n",
            "Epoch 320/1000\n",
            "7/7 [==============================] - 0s 7ms/step - loss: 0.4309 - accuracy: 0.8169 - val_loss: 0.2289 - val_accuracy: 0.9806\n",
            "\n",
            "Epoch 00320: saving model to keypoint_classifier.hdf5\n",
            "Epoch 321/1000\n",
            "7/7 [==============================] - 0s 7ms/step - loss: 0.3781 - accuracy: 0.8435 - val_loss: 0.2334 - val_accuracy: 0.9767\n",
            "\n",
            "Epoch 00321: saving model to keypoint_classifier.hdf5\n",
            "Epoch 322/1000\n",
            "7/7 [==============================] - 0s 7ms/step - loss: 0.4624 - accuracy: 0.8229 - val_loss: 0.2368 - val_accuracy: 0.9845\n",
            "\n",
            "Epoch 00322: saving model to keypoint_classifier.hdf5\n",
            "Epoch 323/1000\n",
            "7/7 [==============================] - 0s 6ms/step - loss: 0.4327 - accuracy: 0.8321 - val_loss: 0.2318 - val_accuracy: 0.9884\n",
            "\n",
            "Epoch 00323: saving model to keypoint_classifier.hdf5\n",
            "Epoch 324/1000\n",
            "7/7 [==============================] - 0s 7ms/step - loss: 0.4840 - accuracy: 0.7894 - val_loss: 0.2253 - val_accuracy: 0.9922\n",
            "\n",
            "Epoch 00324: saving model to keypoint_classifier.hdf5\n",
            "Epoch 00324: early stopping\n"
          ]
        },
        {
          "output_type": "execute_result",
          "data": {
            "text/plain": [
              "<tensorflow.python.keras.callbacks.History at 0x7ff52c0b4fd0>"
            ]
          },
          "metadata": {},
          "execution_count": 98
        }
      ]
    },
    {
      "cell_type": "code",
      "metadata": {
        "id": "pxvb2Y299hE3",
        "colab": {
          "base_uri": "https://localhost:8080/"
        },
        "outputId": "59eb3185-2e37-4b9e-bc9d-ab1b8ac29b7f"
      },
      "source": [
        "# Model evaluation\n",
        "val_loss, val_acc = model.evaluate(X_test, y_test, batch_size=128)"
      ],
      "execution_count": 100,
      "outputs": [
        {
          "output_type": "stream",
          "name": "stdout",
          "text": [
            "3/3 [==============================] - 0s 4ms/step - loss: 0.2253 - accuracy: 0.9922\n"
          ]
        }
      ]
    },
    {
      "cell_type": "code",
      "metadata": {
        "id": "RBkmDeUW9hE4"
      },
      "source": [
        "# Loading the saved model\n",
        "model = tf.keras.models.load_model(model_save_path)"
      ],
      "execution_count": 101,
      "outputs": []
    },
    {
      "cell_type": "code",
      "metadata": {
        "id": "tFz9Tb0I9hE4",
        "colab": {
          "base_uri": "https://localhost:8080/"
        },
        "outputId": "1c3b3528-54ae-4ee2-ab04-77429211cbef"
      },
      "source": [
        "# Inference test\n",
        "predict_result = model.predict(np.array([X_test[0]]))\n",
        "print(np.squeeze(predict_result))\n",
        "print(np.argmax(np.squeeze(predict_result)))"
      ],
      "execution_count": 102,
      "outputs": [
        {
          "output_type": "stream",
          "name": "stdout",
          "text": [
            "[6.8502140e-01 1.4378978e-03 2.9750947e-06 4.0897470e-05 3.1349692e-01]\n0\n"
          ]
        }
      ]
    },
    {
      "cell_type": "markdown",
      "metadata": {
        "id": "S3U4yNWx9hE4"
      },
      "source": [
        "# Confusion matrix"
      ]
    },
    {
      "cell_type": "code",
      "metadata": {
        "id": "AP1V6SCk9hE5",
        "colab": {
          "base_uri": "https://localhost:8080/",
          "height": 582
        },
        "outputId": "08e41a80-7a4a-4619-8125-ecc371368d19"
      },
      "source": [
        "import pandas as pd\n",
        "import seaborn as sns\n",
        "import matplotlib.pyplot as plt\n",
        "from sklearn.metrics import confusion_matrix, classification_report\n",
        "\n",
        "def print_confusion_matrix(y_true, y_pred, report=True):\n",
        "    labels = sorted(list(set(y_true)))\n",
        "    cmx_data = confusion_matrix(y_true, y_pred, labels=labels)\n",
        "    \n",
        "    df_cmx = pd.DataFrame(cmx_data, index=labels, columns=labels)\n",
        " \n",
        "    fig, ax = plt.subplots(figsize=(7, 6))\n",
        "    sns.heatmap(df_cmx, annot=True, fmt='g' ,square=False)\n",
        "    ax.set_ylim(len(set(y_true)), 0)\n",
        "    plt.show()\n",
        "    \n",
        "    if report:\n",
        "        print('Classification Report')\n",
        "        print(classification_report(y_test, y_pred))\n",
        "\n",
        "Y_pred = model.predict(X_test)\n",
        "y_pred = np.argmax(Y_pred, axis=1)\n",
        "\n",
        "print_confusion_matrix(y_test, y_pred)"
      ],
      "execution_count": 103,
      "outputs": [
        {
          "output_type": "display_data",
          "data": {
            "text/plain": "<Figure size 504x432 with 2 Axes>",
            "image/svg+xml": "<?xml version=\"1.0\" encoding=\"utf-8\" standalone=\"no\"?>\n<!DOCTYPE svg PUBLIC \"-//W3C//DTD SVG 1.1//EN\"\n  \"http://www.w3.org/Graphics/SVG/1.1/DTD/svg11.dtd\">\n<!-- Created with matplotlib (https://matplotlib.org/) -->\n<svg height=\"357.238125pt\" version=\"1.1\" viewBox=\"0 0 405.483625 357.238125\" width=\"405.483625pt\" xmlns=\"http://www.w3.org/2000/svg\" xmlns:xlink=\"http://www.w3.org/1999/xlink\">\n <metadata>\n  <rdf:RDF xmlns:cc=\"http://creativecommons.org/ns#\" xmlns:dc=\"http://purl.org/dc/elements/1.1/\" xmlns:rdf=\"http://www.w3.org/1999/02/22-rdf-syntax-ns#\">\n   <cc:Work>\n    <dc:type rdf:resource=\"http://purl.org/dc/dcmitype/StillImage\"/>\n    <dc:date>2021-04-15T13:25:45.309196</dc:date>\n    <dc:format>image/svg+xml</dc:format>\n    <dc:creator>\n     <cc:Agent>\n      <dc:title>Matplotlib v3.3.4, https://matplotlib.org/</dc:title>\n     </cc:Agent>\n    </dc:creator>\n   </cc:Work>\n  </rdf:RDF>\n </metadata>\n <defs>\n  <style type=\"text/css\">*{stroke-linecap:butt;stroke-linejoin:round;}</style>\n </defs>\n <g id=\"figure_1\">\n  <g id=\"patch_1\">\n   <path d=\"M 0 357.238125 \nL 405.483625 357.238125 \nL 405.483625 0 \nL 0 0 \nz\n\" style=\"fill:none;\"/>\n  </g>\n  <g id=\"axes_1\">\n   <g id=\"patch_2\">\n    <path d=\"M 23.878125 333.36 \nL 336.358125 333.36 \nL 336.358125 7.2 \nL 23.878125 7.2 \nz\n\" style=\"fill:#ffffff;\"/>\n   </g>\n   <g id=\"QuadMesh_1\">\n    <path clip-path=\"url(#p2423f0593f)\" d=\"M 23.878125 7.2 \nL 86.374125 7.2 \nL 86.374125 72.432 \nL 23.878125 72.432 \nL 23.878125 7.2 \n\" style=\"fill:#aa185a;\"/>\n    <path clip-path=\"url(#p2423f0593f)\" d=\"M 86.374125 7.2 \nL 148.870125 7.2 \nL 148.870125 72.432 \nL 86.374125 72.432 \nL 86.374125 7.2 \n\" style=\"fill:#03051a;\"/>\n    <path clip-path=\"url(#p2423f0593f)\" d=\"M 148.870125 7.2 \nL 211.366125 7.2 \nL 211.366125 72.432 \nL 148.870125 72.432 \nL 148.870125 7.2 \n\" style=\"fill:#03051a;\"/>\n    <path clip-path=\"url(#p2423f0593f)\" d=\"M 211.366125 7.2 \nL 273.862125 7.2 \nL 273.862125 72.432 \nL 211.366125 72.432 \nL 211.366125 7.2 \n\" style=\"fill:#03051a;\"/>\n    <path clip-path=\"url(#p2423f0593f)\" d=\"M 273.862125 7.2 \nL 336.358125 7.2 \nL 336.358125 72.432 \nL 273.862125 72.432 \nL 273.862125 7.2 \n\" style=\"fill:#08081e;\"/>\n    <path clip-path=\"url(#p2423f0593f)\" d=\"M 23.878125 72.432 \nL 86.374125 72.432 \nL 86.374125 137.664 \nL 23.878125 137.664 \nL 23.878125 72.432 \n\" style=\"fill:#03051a;\"/>\n    <path clip-path=\"url(#p2423f0593f)\" d=\"M 86.374125 72.432 \nL 148.870125 72.432 \nL 148.870125 137.664 \nL 86.374125 137.664 \nL 86.374125 72.432 \n\" style=\"fill:#6b1f56;\"/>\n    <path clip-path=\"url(#p2423f0593f)\" d=\"M 148.870125 72.432 \nL 211.366125 72.432 \nL 211.366125 137.664 \nL 148.870125 137.664 \nL 148.870125 72.432 \n\" style=\"fill:#03051a;\"/>\n    <path clip-path=\"url(#p2423f0593f)\" d=\"M 211.366125 72.432 \nL 273.862125 72.432 \nL 273.862125 137.664 \nL 211.366125 137.664 \nL 211.366125 72.432 \n\" style=\"fill:#03051a;\"/>\n    <path clip-path=\"url(#p2423f0593f)\" d=\"M 273.862125 72.432 \nL 336.358125 72.432 \nL 336.358125 137.664 \nL 273.862125 137.664 \nL 273.862125 72.432 \n\" style=\"fill:#03051a;\"/>\n    <path clip-path=\"url(#p2423f0593f)\" d=\"M 23.878125 137.664 \nL 86.374125 137.664 \nL 86.374125 202.896 \nL 23.878125 202.896 \nL 23.878125 137.664 \n\" style=\"fill:#03051a;\"/>\n    <path clip-path=\"url(#p2423f0593f)\" d=\"M 86.374125 137.664 \nL 148.870125 137.664 \nL 148.870125 202.896 \nL 86.374125 202.896 \nL 86.374125 137.664 \n\" style=\"fill:#03051a;\"/>\n    <path clip-path=\"url(#p2423f0593f)\" d=\"M 148.870125 137.664 \nL 211.366125 137.664 \nL 211.366125 202.896 \nL 148.870125 202.896 \nL 148.870125 137.664 \n\" style=\"fill:#de2e44;\"/>\n    <path clip-path=\"url(#p2423f0593f)\" d=\"M 211.366125 137.664 \nL 273.862125 137.664 \nL 273.862125 202.896 \nL 211.366125 202.896 \nL 211.366125 137.664 \n\" style=\"fill:#03051a;\"/>\n    <path clip-path=\"url(#p2423f0593f)\" d=\"M 273.862125 137.664 \nL 336.358125 137.664 \nL 336.358125 202.896 \nL 273.862125 202.896 \nL 273.862125 137.664 \n\" style=\"fill:#03051a;\"/>\n    <path clip-path=\"url(#p2423f0593f)\" d=\"M 23.878125 202.896 \nL 86.374125 202.896 \nL 86.374125 268.128 \nL 23.878125 268.128 \nL 23.878125 202.896 \n\" style=\"fill:#03051a;\"/>\n    <path clip-path=\"url(#p2423f0593f)\" d=\"M 86.374125 202.896 \nL 148.870125 202.896 \nL 148.870125 268.128 \nL 86.374125 268.128 \nL 86.374125 202.896 \n\" style=\"fill:#03051a;\"/>\n    <path clip-path=\"url(#p2423f0593f)\" d=\"M 148.870125 202.896 \nL 211.366125 202.896 \nL 211.366125 268.128 \nL 148.870125 268.128 \nL 148.870125 202.896 \n\" style=\"fill:#03051a;\"/>\n    <path clip-path=\"url(#p2423f0593f)\" d=\"M 211.366125 202.896 \nL 273.862125 202.896 \nL 273.862125 268.128 \nL 211.366125 268.128 \nL 211.366125 202.896 \n\" style=\"fill:#631f53;\"/>\n    <path clip-path=\"url(#p2423f0593f)\" d=\"M 273.862125 202.896 \nL 336.358125 202.896 \nL 336.358125 268.128 \nL 273.862125 268.128 \nL 273.862125 202.896 \n\" style=\"fill:#03051a;\"/>\n    <path clip-path=\"url(#p2423f0593f)\" d=\"M 23.878125 268.128 \nL 86.374125 268.128 \nL 86.374125 333.36 \nL 23.878125 333.36 \nL 23.878125 268.128 \n\" style=\"fill:#03051a;\"/>\n    <path clip-path=\"url(#p2423f0593f)\" d=\"M 86.374125 268.128 \nL 148.870125 268.128 \nL 148.870125 333.36 \nL 86.374125 333.36 \nL 86.374125 268.128 \n\" style=\"fill:#03051a;\"/>\n    <path clip-path=\"url(#p2423f0593f)\" d=\"M 148.870125 268.128 \nL 211.366125 268.128 \nL 211.366125 333.36 \nL 148.870125 333.36 \nL 148.870125 268.128 \n\" style=\"fill:#03051a;\"/>\n    <path clip-path=\"url(#p2423f0593f)\" d=\"M 211.366125 268.128 \nL 273.862125 268.128 \nL 273.862125 333.36 \nL 211.366125 333.36 \nL 211.366125 268.128 \n\" style=\"fill:#03051a;\"/>\n    <path clip-path=\"url(#p2423f0593f)\" d=\"M 273.862125 268.128 \nL 336.358125 268.128 \nL 336.358125 333.36 \nL 273.862125 333.36 \nL 273.862125 268.128 \n\" style=\"fill:#faebdd;\"/>\n   </g>\n   <g id=\"matplotlib.axis_1\">\n    <g id=\"xtick_1\">\n     <g id=\"line2d_1\">\n      <defs>\n       <path d=\"M 0 0 \nL 0 3.5 \n\" id=\"mb40efe4ca2\" style=\"stroke:#000000;stroke-width:0.8;\"/>\n      </defs>\n      <g>\n       <use style=\"stroke:#000000;stroke-width:0.8;\" x=\"55.126125\" xlink:href=\"#mb40efe4ca2\" y=\"333.36\"/>\n      </g>\n     </g>\n     <g id=\"text_1\">\n      <!-- 0 -->\n      <g transform=\"translate(51.944875 347.958438)scale(0.1 -0.1)\">\n       <defs>\n        <path d=\"M 31.78125 66.40625 \nQ 24.171875 66.40625 20.328125 58.90625 \nQ 16.5 51.421875 16.5 36.375 \nQ 16.5 21.390625 20.328125 13.890625 \nQ 24.171875 6.390625 31.78125 6.390625 \nQ 39.453125 6.390625 43.28125 13.890625 \nQ 47.125 21.390625 47.125 36.375 \nQ 47.125 51.421875 43.28125 58.90625 \nQ 39.453125 66.40625 31.78125 66.40625 \nz\nM 31.78125 74.21875 \nQ 44.046875 74.21875 50.515625 64.515625 \nQ 56.984375 54.828125 56.984375 36.375 \nQ 56.984375 17.96875 50.515625 8.265625 \nQ 44.046875 -1.421875 31.78125 -1.421875 \nQ 19.53125 -1.421875 13.0625 8.265625 \nQ 6.59375 17.96875 6.59375 36.375 \nQ 6.59375 54.828125 13.0625 64.515625 \nQ 19.53125 74.21875 31.78125 74.21875 \nz\n\" id=\"DejaVuSans-48\"/>\n       </defs>\n       <use xlink:href=\"#DejaVuSans-48\"/>\n      </g>\n     </g>\n    </g>\n    <g id=\"xtick_2\">\n     <g id=\"line2d_2\">\n      <g>\n       <use style=\"stroke:#000000;stroke-width:0.8;\" x=\"117.622125\" xlink:href=\"#mb40efe4ca2\" y=\"333.36\"/>\n      </g>\n     </g>\n     <g id=\"text_2\">\n      <!-- 1 -->\n      <g transform=\"translate(114.440875 347.958438)scale(0.1 -0.1)\">\n       <defs>\n        <path d=\"M 12.40625 8.296875 \nL 28.515625 8.296875 \nL 28.515625 63.921875 \nL 10.984375 60.40625 \nL 10.984375 69.390625 \nL 28.421875 72.90625 \nL 38.28125 72.90625 \nL 38.28125 8.296875 \nL 54.390625 8.296875 \nL 54.390625 0 \nL 12.40625 0 \nz\n\" id=\"DejaVuSans-49\"/>\n       </defs>\n       <use xlink:href=\"#DejaVuSans-49\"/>\n      </g>\n     </g>\n    </g>\n    <g id=\"xtick_3\">\n     <g id=\"line2d_3\">\n      <g>\n       <use style=\"stroke:#000000;stroke-width:0.8;\" x=\"180.118125\" xlink:href=\"#mb40efe4ca2\" y=\"333.36\"/>\n      </g>\n     </g>\n     <g id=\"text_3\">\n      <!-- 2 -->\n      <g transform=\"translate(176.936875 347.958438)scale(0.1 -0.1)\">\n       <defs>\n        <path d=\"M 19.1875 8.296875 \nL 53.609375 8.296875 \nL 53.609375 0 \nL 7.328125 0 \nL 7.328125 8.296875 \nQ 12.9375 14.109375 22.625 23.890625 \nQ 32.328125 33.6875 34.8125 36.53125 \nQ 39.546875 41.84375 41.421875 45.53125 \nQ 43.3125 49.21875 43.3125 52.78125 \nQ 43.3125 58.59375 39.234375 62.25 \nQ 35.15625 65.921875 28.609375 65.921875 \nQ 23.96875 65.921875 18.8125 64.3125 \nQ 13.671875 62.703125 7.8125 59.421875 \nL 7.8125 69.390625 \nQ 13.765625 71.78125 18.9375 73 \nQ 24.125 74.21875 28.421875 74.21875 \nQ 39.75 74.21875 46.484375 68.546875 \nQ 53.21875 62.890625 53.21875 53.421875 \nQ 53.21875 48.921875 51.53125 44.890625 \nQ 49.859375 40.875 45.40625 35.40625 \nQ 44.1875 33.984375 37.640625 27.21875 \nQ 31.109375 20.453125 19.1875 8.296875 \nz\n\" id=\"DejaVuSans-50\"/>\n       </defs>\n       <use xlink:href=\"#DejaVuSans-50\"/>\n      </g>\n     </g>\n    </g>\n    <g id=\"xtick_4\">\n     <g id=\"line2d_4\">\n      <g>\n       <use style=\"stroke:#000000;stroke-width:0.8;\" x=\"242.614125\" xlink:href=\"#mb40efe4ca2\" y=\"333.36\"/>\n      </g>\n     </g>\n     <g id=\"text_4\">\n      <!-- 3 -->\n      <g transform=\"translate(239.432875 347.958438)scale(0.1 -0.1)\">\n       <defs>\n        <path d=\"M 40.578125 39.3125 \nQ 47.65625 37.796875 51.625 33 \nQ 55.609375 28.21875 55.609375 21.1875 \nQ 55.609375 10.40625 48.1875 4.484375 \nQ 40.765625 -1.421875 27.09375 -1.421875 \nQ 22.515625 -1.421875 17.65625 -0.515625 \nQ 12.796875 0.390625 7.625 2.203125 \nL 7.625 11.71875 \nQ 11.71875 9.328125 16.59375 8.109375 \nQ 21.484375 6.890625 26.8125 6.890625 \nQ 36.078125 6.890625 40.9375 10.546875 \nQ 45.796875 14.203125 45.796875 21.1875 \nQ 45.796875 27.640625 41.28125 31.265625 \nQ 36.765625 34.90625 28.71875 34.90625 \nL 20.21875 34.90625 \nL 20.21875 43.015625 \nL 29.109375 43.015625 \nQ 36.375 43.015625 40.234375 45.921875 \nQ 44.09375 48.828125 44.09375 54.296875 \nQ 44.09375 59.90625 40.109375 62.90625 \nQ 36.140625 65.921875 28.71875 65.921875 \nQ 24.65625 65.921875 20.015625 65.03125 \nQ 15.375 64.15625 9.8125 62.3125 \nL 9.8125 71.09375 \nQ 15.4375 72.65625 20.34375 73.4375 \nQ 25.25 74.21875 29.59375 74.21875 \nQ 40.828125 74.21875 47.359375 69.109375 \nQ 53.90625 64.015625 53.90625 55.328125 \nQ 53.90625 49.265625 50.4375 45.09375 \nQ 46.96875 40.921875 40.578125 39.3125 \nz\n\" id=\"DejaVuSans-51\"/>\n       </defs>\n       <use xlink:href=\"#DejaVuSans-51\"/>\n      </g>\n     </g>\n    </g>\n    <g id=\"xtick_5\">\n     <g id=\"line2d_5\">\n      <g>\n       <use style=\"stroke:#000000;stroke-width:0.8;\" x=\"305.110125\" xlink:href=\"#mb40efe4ca2\" y=\"333.36\"/>\n      </g>\n     </g>\n     <g id=\"text_5\">\n      <!-- 4 -->\n      <g transform=\"translate(301.928875 347.958438)scale(0.1 -0.1)\">\n       <defs>\n        <path d=\"M 37.796875 64.3125 \nL 12.890625 25.390625 \nL 37.796875 25.390625 \nz\nM 35.203125 72.90625 \nL 47.609375 72.90625 \nL 47.609375 25.390625 \nL 58.015625 25.390625 \nL 58.015625 17.1875 \nL 47.609375 17.1875 \nL 47.609375 0 \nL 37.796875 0 \nL 37.796875 17.1875 \nL 4.890625 17.1875 \nL 4.890625 26.703125 \nz\n\" id=\"DejaVuSans-52\"/>\n       </defs>\n       <use xlink:href=\"#DejaVuSans-52\"/>\n      </g>\n     </g>\n    </g>\n   </g>\n   <g id=\"matplotlib.axis_2\">\n    <g id=\"ytick_1\">\n     <g id=\"line2d_6\">\n      <defs>\n       <path d=\"M 0 0 \nL -3.5 0 \n\" id=\"m082e4309f9\" style=\"stroke:#000000;stroke-width:0.8;\"/>\n      </defs>\n      <g>\n       <use style=\"stroke:#000000;stroke-width:0.8;\" x=\"23.878125\" xlink:href=\"#m082e4309f9\" y=\"39.816\"/>\n      </g>\n     </g>\n     <g id=\"text_6\">\n      <!-- 0 -->\n      <g transform=\"translate(14.798438 42.379281)rotate(-90)scale(0.1 -0.1)\">\n       <use xlink:href=\"#DejaVuSans-48\"/>\n      </g>\n     </g>\n    </g>\n    <g id=\"ytick_2\">\n     <g id=\"line2d_7\">\n      <g>\n       <use style=\"stroke:#000000;stroke-width:0.8;\" x=\"23.878125\" xlink:href=\"#m082e4309f9\" y=\"105.048\"/>\n      </g>\n     </g>\n     <g id=\"text_7\">\n      <!-- 1 -->\n      <g transform=\"translate(14.798438 107.611281)rotate(-90)scale(0.1 -0.1)\">\n       <use xlink:href=\"#DejaVuSans-49\"/>\n      </g>\n     </g>\n    </g>\n    <g id=\"ytick_3\">\n     <g id=\"line2d_8\">\n      <g>\n       <use style=\"stroke:#000000;stroke-width:0.8;\" x=\"23.878125\" xlink:href=\"#m082e4309f9\" y=\"170.28\"/>\n      </g>\n     </g>\n     <g id=\"text_8\">\n      <!-- 2 -->\n      <g transform=\"translate(14.798438 172.843281)rotate(-90)scale(0.1 -0.1)\">\n       <use xlink:href=\"#DejaVuSans-50\"/>\n      </g>\n     </g>\n    </g>\n    <g id=\"ytick_4\">\n     <g id=\"line2d_9\">\n      <g>\n       <use style=\"stroke:#000000;stroke-width:0.8;\" x=\"23.878125\" xlink:href=\"#m082e4309f9\" y=\"235.512\"/>\n      </g>\n     </g>\n     <g id=\"text_9\">\n      <!-- 3 -->\n      <g transform=\"translate(14.798438 238.075281)rotate(-90)scale(0.1 -0.1)\">\n       <use xlink:href=\"#DejaVuSans-51\"/>\n      </g>\n     </g>\n    </g>\n    <g id=\"ytick_5\">\n     <g id=\"line2d_10\">\n      <g>\n       <use style=\"stroke:#000000;stroke-width:0.8;\" x=\"23.878125\" xlink:href=\"#m082e4309f9\" y=\"300.744\"/>\n      </g>\n     </g>\n     <g id=\"text_10\">\n      <!-- 4 -->\n      <g transform=\"translate(14.798438 303.307281)rotate(-90)scale(0.1 -0.1)\">\n       <use xlink:href=\"#DejaVuSans-52\"/>\n      </g>\n     </g>\n    </g>\n   </g>\n   <g id=\"text_11\">\n    <!-- 43 -->\n    <g style=\"fill:#ffffff;\" transform=\"translate(48.763625 42.575375)scale(0.1 -0.1)\">\n     <use xlink:href=\"#DejaVuSans-52\"/>\n     <use x=\"63.623047\" xlink:href=\"#DejaVuSans-51\"/>\n    </g>\n   </g>\n   <g id=\"text_12\">\n    <!-- 0 -->\n    <g style=\"fill:#ffffff;\" transform=\"translate(114.440875 42.575375)scale(0.1 -0.1)\">\n     <use xlink:href=\"#DejaVuSans-48\"/>\n    </g>\n   </g>\n   <g id=\"text_13\">\n    <!-- 0 -->\n    <g style=\"fill:#ffffff;\" transform=\"translate(176.936875 42.575375)scale(0.1 -0.1)\">\n     <use xlink:href=\"#DejaVuSans-48\"/>\n    </g>\n   </g>\n   <g id=\"text_14\">\n    <!-- 0 -->\n    <g style=\"fill:#ffffff;\" transform=\"translate(239.432875 42.575375)scale(0.1 -0.1)\">\n     <use xlink:href=\"#DejaVuSans-48\"/>\n    </g>\n   </g>\n   <g id=\"text_15\">\n    <!-- 2 -->\n    <g style=\"fill:#ffffff;\" transform=\"translate(301.928875 42.575375)scale(0.1 -0.1)\">\n     <use xlink:href=\"#DejaVuSans-50\"/>\n    </g>\n   </g>\n   <g id=\"text_16\">\n    <!-- 0 -->\n    <g style=\"fill:#ffffff;\" transform=\"translate(51.944875 107.807375)scale(0.1 -0.1)\">\n     <use xlink:href=\"#DejaVuSans-48\"/>\n    </g>\n   </g>\n   <g id=\"text_17\">\n    <!-- 28 -->\n    <g style=\"fill:#ffffff;\" transform=\"translate(111.259625 107.807375)scale(0.1 -0.1)\">\n     <defs>\n      <path d=\"M 31.78125 34.625 \nQ 24.75 34.625 20.71875 30.859375 \nQ 16.703125 27.09375 16.703125 20.515625 \nQ 16.703125 13.921875 20.71875 10.15625 \nQ 24.75 6.390625 31.78125 6.390625 \nQ 38.8125 6.390625 42.859375 10.171875 \nQ 46.921875 13.96875 46.921875 20.515625 \nQ 46.921875 27.09375 42.890625 30.859375 \nQ 38.875 34.625 31.78125 34.625 \nz\nM 21.921875 38.8125 \nQ 15.578125 40.375 12.03125 44.71875 \nQ 8.5 49.078125 8.5 55.328125 \nQ 8.5 64.0625 14.71875 69.140625 \nQ 20.953125 74.21875 31.78125 74.21875 \nQ 42.671875 74.21875 48.875 69.140625 \nQ 55.078125 64.0625 55.078125 55.328125 \nQ 55.078125 49.078125 51.53125 44.71875 \nQ 48 40.375 41.703125 38.8125 \nQ 48.828125 37.15625 52.796875 32.3125 \nQ 56.78125 27.484375 56.78125 20.515625 \nQ 56.78125 9.90625 50.3125 4.234375 \nQ 43.84375 -1.421875 31.78125 -1.421875 \nQ 19.734375 -1.421875 13.25 4.234375 \nQ 6.78125 9.90625 6.78125 20.515625 \nQ 6.78125 27.484375 10.78125 32.3125 \nQ 14.796875 37.15625 21.921875 38.8125 \nz\nM 18.3125 54.390625 \nQ 18.3125 48.734375 21.84375 45.5625 \nQ 25.390625 42.390625 31.78125 42.390625 \nQ 38.140625 42.390625 41.71875 45.5625 \nQ 45.3125 48.734375 45.3125 54.390625 \nQ 45.3125 60.0625 41.71875 63.234375 \nQ 38.140625 66.40625 31.78125 66.40625 \nQ 25.390625 66.40625 21.84375 63.234375 \nQ 18.3125 60.0625 18.3125 54.390625 \nz\n\" id=\"DejaVuSans-56\"/>\n     </defs>\n     <use xlink:href=\"#DejaVuSans-50\"/>\n     <use x=\"63.623047\" xlink:href=\"#DejaVuSans-56\"/>\n    </g>\n   </g>\n   <g id=\"text_18\">\n    <!-- 0 -->\n    <g style=\"fill:#ffffff;\" transform=\"translate(176.936875 107.807375)scale(0.1 -0.1)\">\n     <use xlink:href=\"#DejaVuSans-48\"/>\n    </g>\n   </g>\n   <g id=\"text_19\">\n    <!-- 0 -->\n    <g style=\"fill:#ffffff;\" transform=\"translate(239.432875 107.807375)scale(0.1 -0.1)\">\n     <use xlink:href=\"#DejaVuSans-48\"/>\n    </g>\n   </g>\n   <g id=\"text_20\">\n    <!-- 0 -->\n    <g style=\"fill:#ffffff;\" transform=\"translate(301.928875 107.807375)scale(0.1 -0.1)\">\n     <use xlink:href=\"#DejaVuSans-48\"/>\n    </g>\n   </g>\n   <g id=\"text_21\">\n    <!-- 0 -->\n    <g style=\"fill:#ffffff;\" transform=\"translate(51.944875 173.039375)scale(0.1 -0.1)\">\n     <use xlink:href=\"#DejaVuSans-48\"/>\n    </g>\n   </g>\n   <g id=\"text_22\">\n    <!-- 0 -->\n    <g style=\"fill:#ffffff;\" transform=\"translate(114.440875 173.039375)scale(0.1 -0.1)\">\n     <use xlink:href=\"#DejaVuSans-48\"/>\n    </g>\n   </g>\n   <g id=\"text_23\">\n    <!-- 57 -->\n    <g style=\"fill:#ffffff;\" transform=\"translate(173.755625 173.039375)scale(0.1 -0.1)\">\n     <defs>\n      <path d=\"M 10.796875 72.90625 \nL 49.515625 72.90625 \nL 49.515625 64.59375 \nL 19.828125 64.59375 \nL 19.828125 46.734375 \nQ 21.96875 47.46875 24.109375 47.828125 \nQ 26.265625 48.1875 28.421875 48.1875 \nQ 40.625 48.1875 47.75 41.5 \nQ 54.890625 34.8125 54.890625 23.390625 \nQ 54.890625 11.625 47.5625 5.09375 \nQ 40.234375 -1.421875 26.90625 -1.421875 \nQ 22.3125 -1.421875 17.546875 -0.640625 \nQ 12.796875 0.140625 7.71875 1.703125 \nL 7.71875 11.625 \nQ 12.109375 9.234375 16.796875 8.0625 \nQ 21.484375 6.890625 26.703125 6.890625 \nQ 35.15625 6.890625 40.078125 11.328125 \nQ 45.015625 15.765625 45.015625 23.390625 \nQ 45.015625 31 40.078125 35.4375 \nQ 35.15625 39.890625 26.703125 39.890625 \nQ 22.75 39.890625 18.8125 39.015625 \nQ 14.890625 38.140625 10.796875 36.28125 \nz\n\" id=\"DejaVuSans-53\"/>\n      <path d=\"M 8.203125 72.90625 \nL 55.078125 72.90625 \nL 55.078125 68.703125 \nL 28.609375 0 \nL 18.3125 0 \nL 43.21875 64.59375 \nL 8.203125 64.59375 \nz\n\" id=\"DejaVuSans-55\"/>\n     </defs>\n     <use xlink:href=\"#DejaVuSans-53\"/>\n     <use x=\"63.623047\" xlink:href=\"#DejaVuSans-55\"/>\n    </g>\n   </g>\n   <g id=\"text_24\">\n    <!-- 0 -->\n    <g style=\"fill:#ffffff;\" transform=\"translate(239.432875 173.039375)scale(0.1 -0.1)\">\n     <use xlink:href=\"#DejaVuSans-48\"/>\n    </g>\n   </g>\n   <g id=\"text_25\">\n    <!-- 0 -->\n    <g style=\"fill:#ffffff;\" transform=\"translate(301.928875 173.039375)scale(0.1 -0.1)\">\n     <use xlink:href=\"#DejaVuSans-48\"/>\n    </g>\n   </g>\n   <g id=\"text_26\">\n    <!-- 0 -->\n    <g style=\"fill:#ffffff;\" transform=\"translate(51.944875 238.271375)scale(0.1 -0.1)\">\n     <use xlink:href=\"#DejaVuSans-48\"/>\n    </g>\n   </g>\n   <g id=\"text_27\">\n    <!-- 0 -->\n    <g style=\"fill:#ffffff;\" transform=\"translate(114.440875 238.271375)scale(0.1 -0.1)\">\n     <use xlink:href=\"#DejaVuSans-48\"/>\n    </g>\n   </g>\n   <g id=\"text_28\">\n    <!-- 0 -->\n    <g style=\"fill:#ffffff;\" transform=\"translate(176.936875 238.271375)scale(0.1 -0.1)\">\n     <use xlink:href=\"#DejaVuSans-48\"/>\n    </g>\n   </g>\n   <g id=\"text_29\">\n    <!-- 26 -->\n    <g style=\"fill:#ffffff;\" transform=\"translate(236.251625 238.271375)scale(0.1 -0.1)\">\n     <defs>\n      <path d=\"M 33.015625 40.375 \nQ 26.375 40.375 22.484375 35.828125 \nQ 18.609375 31.296875 18.609375 23.390625 \nQ 18.609375 15.53125 22.484375 10.953125 \nQ 26.375 6.390625 33.015625 6.390625 \nQ 39.65625 6.390625 43.53125 10.953125 \nQ 47.40625 15.53125 47.40625 23.390625 \nQ 47.40625 31.296875 43.53125 35.828125 \nQ 39.65625 40.375 33.015625 40.375 \nz\nM 52.59375 71.296875 \nL 52.59375 62.3125 \nQ 48.875 64.0625 45.09375 64.984375 \nQ 41.3125 65.921875 37.59375 65.921875 \nQ 27.828125 65.921875 22.671875 59.328125 \nQ 17.53125 52.734375 16.796875 39.40625 \nQ 19.671875 43.65625 24.015625 45.921875 \nQ 28.375 48.1875 33.59375 48.1875 \nQ 44.578125 48.1875 50.953125 41.515625 \nQ 57.328125 34.859375 57.328125 23.390625 \nQ 57.328125 12.15625 50.6875 5.359375 \nQ 44.046875 -1.421875 33.015625 -1.421875 \nQ 20.359375 -1.421875 13.671875 8.265625 \nQ 6.984375 17.96875 6.984375 36.375 \nQ 6.984375 53.65625 15.1875 63.9375 \nQ 23.390625 74.21875 37.203125 74.21875 \nQ 40.921875 74.21875 44.703125 73.484375 \nQ 48.484375 72.75 52.59375 71.296875 \nz\n\" id=\"DejaVuSans-54\"/>\n     </defs>\n     <use xlink:href=\"#DejaVuSans-50\"/>\n     <use x=\"63.623047\" xlink:href=\"#DejaVuSans-54\"/>\n    </g>\n   </g>\n   <g id=\"text_30\">\n    <!-- 0 -->\n    <g style=\"fill:#ffffff;\" transform=\"translate(301.928875 238.271375)scale(0.1 -0.1)\">\n     <use xlink:href=\"#DejaVuSans-48\"/>\n    </g>\n   </g>\n   <g id=\"text_31\">\n    <!-- 0 -->\n    <g style=\"fill:#ffffff;\" transform=\"translate(51.944875 303.503375)scale(0.1 -0.1)\">\n     <use xlink:href=\"#DejaVuSans-48\"/>\n    </g>\n   </g>\n   <g id=\"text_32\">\n    <!-- 0 -->\n    <g style=\"fill:#ffffff;\" transform=\"translate(114.440875 303.503375)scale(0.1 -0.1)\">\n     <use xlink:href=\"#DejaVuSans-48\"/>\n    </g>\n   </g>\n   <g id=\"text_33\">\n    <!-- 0 -->\n    <g style=\"fill:#ffffff;\" transform=\"translate(176.936875 303.503375)scale(0.1 -0.1)\">\n     <use xlink:href=\"#DejaVuSans-48\"/>\n    </g>\n   </g>\n   <g id=\"text_34\">\n    <!-- 0 -->\n    <g style=\"fill:#ffffff;\" transform=\"translate(239.432875 303.503375)scale(0.1 -0.1)\">\n     <use xlink:href=\"#DejaVuSans-48\"/>\n    </g>\n   </g>\n   <g id=\"text_35\">\n    <!-- 102 -->\n    <g style=\"fill:#262626;\" transform=\"translate(295.566375 303.503375)scale(0.1 -0.1)\">\n     <use xlink:href=\"#DejaVuSans-49\"/>\n     <use x=\"63.623047\" xlink:href=\"#DejaVuSans-48\"/>\n     <use x=\"127.246094\" xlink:href=\"#DejaVuSans-50\"/>\n    </g>\n   </g>\n  </g>\n  <g id=\"axes_2\">\n   <g id=\"patch_3\">\n    <path clip-path=\"url(#p0a74149db6)\" d=\"M 355.888125 333.36 \nL 355.888125 332.085937 \nL 355.888125 8.474063 \nL 355.888125 7.2 \nL 372.196125 7.2 \nL 372.196125 8.474063 \nL 372.196125 332.085937 \nL 372.196125 333.36 \nz\n\" style=\"fill:#ffffff;stroke:#ffffff;stroke-linejoin:miter;stroke-width:0.01;\"/>\n   </g>\n   <image height=\"326\" id=\"imaged314ce7038\" transform=\"scale(1 -1)translate(0 -326)\" width=\"16\" x=\"356\" xlink:href=\"data:image/png;base64,\niVBORw0KGgoAAAANSUhEUgAAABAAAAFGCAYAAABjUx8/AAABu0lEQVR4nO2a0Q3DQAhDobku0f33TId4luxD3H8s8zAkadPP9/cWOKfJ1VV1upmEQKCYwAddXYoSPvcz4CVgiJABdrAQIyDSWfB3QRAkdxsVDhiGEUEasNYXor8E/z6YsNICgmRngB1QAcVahwL3j3PCKw+Osp0BVViICogJO5GdhCdVLsDOBAb2G0vANAq6YHYQANGexIAnVXsOIlYaFEjoAjszkshOAgP0L9MUiFjA/oABBQQQaZAmMMACC1GwUNwrLYDBBimDAbOASwhIIof4MggjGNwfpMYlUAeCNg5IIu6CnQGcpoAkNnxEUUCEDAQ/iVIHAyDiKC8DzACXILg3wtuzACJ34IbIkwg9BDCYECQooPgCggpwBtRBQBKxgBkiZ1D+jeQWEEB0l4AdBAyTACL8hyMBormEU9QBLSFgGkcwwEFyf9hGHURAZCY2iVWn4J1lQpDaHiTahQCI/mkcANGeRMUrjz0HGKL9W13BMNm7EDCNkAF/X7ifgX2YsIOIlWYX2JU2Yhr9SRwA0c1gV9qMIHU/ZgcbpIwg0RwsxIRhcnchYhrNUY5Y6zuN9hz42xiQRPs4YwZ/ztQuS6ONcUwAAAAASUVORK5CYII=\" y=\"-7\"/>\n   <g id=\"matplotlib.axis_3\"/>\n   <g id=\"matplotlib.axis_4\">\n    <g id=\"ytick_6\">\n     <g id=\"line2d_11\">\n      <defs>\n       <path d=\"M 0 0 \nL 3.5 0 \n\" id=\"m4af6af4bd1\" style=\"stroke:#000000;stroke-width:0.8;\"/>\n      </defs>\n      <g>\n       <use style=\"stroke:#000000;stroke-width:0.8;\" x=\"372.196125\" xlink:href=\"#m4af6af4bd1\" y=\"333.36\"/>\n      </g>\n     </g>\n     <g id=\"text_36\">\n      <!-- 0 -->\n      <g transform=\"translate(379.196125 337.159219)scale(0.1 -0.1)\">\n       <use xlink:href=\"#DejaVuSans-48\"/>\n      </g>\n     </g>\n    </g>\n    <g id=\"ytick_7\">\n     <g id=\"line2d_12\">\n      <g>\n       <use style=\"stroke:#000000;stroke-width:0.8;\" x=\"372.196125\" xlink:href=\"#m4af6af4bd1\" y=\"269.407059\"/>\n      </g>\n     </g>\n     <g id=\"text_37\">\n      <!-- 20 -->\n      <g transform=\"translate(379.196125 273.206278)scale(0.1 -0.1)\">\n       <use xlink:href=\"#DejaVuSans-50\"/>\n       <use x=\"63.623047\" xlink:href=\"#DejaVuSans-48\"/>\n      </g>\n     </g>\n    </g>\n    <g id=\"ytick_8\">\n     <g id=\"line2d_13\">\n      <g>\n       <use style=\"stroke:#000000;stroke-width:0.8;\" x=\"372.196125\" xlink:href=\"#m4af6af4bd1\" y=\"205.454118\"/>\n      </g>\n     </g>\n     <g id=\"text_38\">\n      <!-- 40 -->\n      <g transform=\"translate(379.196125 209.253336)scale(0.1 -0.1)\">\n       <use xlink:href=\"#DejaVuSans-52\"/>\n       <use x=\"63.623047\" xlink:href=\"#DejaVuSans-48\"/>\n      </g>\n     </g>\n    </g>\n    <g id=\"ytick_9\">\n     <g id=\"line2d_14\">\n      <g>\n       <use style=\"stroke:#000000;stroke-width:0.8;\" x=\"372.196125\" xlink:href=\"#m4af6af4bd1\" y=\"141.501176\"/>\n      </g>\n     </g>\n     <g id=\"text_39\">\n      <!-- 60 -->\n      <g transform=\"translate(379.196125 145.300395)scale(0.1 -0.1)\">\n       <use xlink:href=\"#DejaVuSans-54\"/>\n       <use x=\"63.623047\" xlink:href=\"#DejaVuSans-48\"/>\n      </g>\n     </g>\n    </g>\n    <g id=\"ytick_10\">\n     <g id=\"line2d_15\">\n      <g>\n       <use style=\"stroke:#000000;stroke-width:0.8;\" x=\"372.196125\" xlink:href=\"#m4af6af4bd1\" y=\"77.548235\"/>\n      </g>\n     </g>\n     <g id=\"text_40\">\n      <!-- 80 -->\n      <g transform=\"translate(379.196125 81.347454)scale(0.1 -0.1)\">\n       <use xlink:href=\"#DejaVuSans-56\"/>\n       <use x=\"63.623047\" xlink:href=\"#DejaVuSans-48\"/>\n      </g>\n     </g>\n    </g>\n    <g id=\"ytick_11\">\n     <g id=\"line2d_16\">\n      <g>\n       <use style=\"stroke:#000000;stroke-width:0.8;\" x=\"372.196125\" xlink:href=\"#m4af6af4bd1\" y=\"13.595294\"/>\n      </g>\n     </g>\n     <g id=\"text_41\">\n      <!-- 100 -->\n      <g transform=\"translate(379.196125 17.394513)scale(0.1 -0.1)\">\n       <use xlink:href=\"#DejaVuSans-49\"/>\n       <use x=\"63.623047\" xlink:href=\"#DejaVuSans-48\"/>\n       <use x=\"127.246094\" xlink:href=\"#DejaVuSans-48\"/>\n      </g>\n     </g>\n    </g>\n   </g>\n   <g id=\"patch_4\">\n    <path d=\"M 355.888125 333.36 \nL 355.888125 332.085937 \nL 355.888125 8.474063 \nL 355.888125 7.2 \nL 372.196125 7.2 \nL 372.196125 8.474063 \nL 372.196125 332.085937 \nL 372.196125 333.36 \nz\n\" style=\"fill:none;\"/>\n   </g>\n  </g>\n </g>\n <defs>\n  <clipPath id=\"p2423f0593f\">\n   <rect height=\"326.16\" width=\"312.48\" x=\"23.878125\" y=\"7.2\"/>\n  </clipPath>\n  <clipPath id=\"p0a74149db6\">\n   <rect height=\"326.16\" width=\"16.308\" x=\"355.888125\" y=\"7.2\"/>\n  </clipPath>\n </defs>\n</svg>\n",
            "image/png": "[encoded data removed]"
          },
          "metadata": {
            "needs_background": "light"
          }
        },
        {
          "output_type": "stream",
          "name": "stdout",
          "text": [
            "Classification Report\n              precision    recall  f1-score   support\n\n           0       1.00      0.96      0.98        45\n           1       1.00      1.00      1.00        28\n           2       1.00      1.00      1.00        57\n           3       1.00      1.00      1.00        26\n           4       0.98      1.00      0.99       102\n\n    accuracy                           0.99       258\n   macro avg       1.00      0.99      0.99       258\nweighted avg       0.99      0.99      0.99       258\n\n"
          ]
        }
      ]
    },
    {
      "cell_type": "markdown",
      "metadata": {
        "id": "FNP6aqzc9hE5"
      },
      "source": [
        "# Convert to model for Tensorflow-Lite"
      ]
    },
    {
      "cell_type": "code",
      "metadata": {
        "id": "ODjnYyld9hE6"
      },
      "source": [
        "# Save as a model dedicated to inference\n",
        "model.save(model_save_path, include_optimizer=False)"
      ],
      "execution_count": 104,
      "outputs": []
    },
    {
      "cell_type": "code",
      "metadata": {
        "id": "zRfuK8Y59hE6",
        "colab": {
          "base_uri": "https://localhost:8080/"
        },
        "outputId": "a4ca585c-b5d5-4244-8291-8674063209bb"
      },
      "source": [
        "# Transform model (quantization)\n",
        "\n",
        "converter = tf.lite.TFLiteConverter.from_keras_model(model)\n",
        "converter.optimizations = [tf.lite.Optimize.DEFAULT]\n",
        "tflite_quantized_model = converter.convert()\n",
        "\n",
        "open(tflite_save_path, 'wb').write(tflite_quantized_model)"
      ],
      "execution_count": 105,
      "outputs": [
        {
          "output_type": "stream",
          "name": "stdout",
          "text": [
            "INFO:tensorflow:Assets written to: /tmp/tmpsytvnuta/assets\n",
            "INFO:tensorflow:Assets written to: /tmp/tmpsytvnuta/assets\n"
          ]
        },
        {
          "output_type": "execute_result",
          "data": {
            "text/plain": [
              "6464"
            ]
          },
          "metadata": {},
          "execution_count": 105
        }
      ]
    },
    {
      "cell_type": "markdown",
      "metadata": {
        "id": "CHBPBXdx9hE6"
      },
      "source": [
        "# Inference test"
      ]
    },
    {
      "cell_type": "code",
      "metadata": {
        "id": "mGAzLocO9hE7"
      },
      "source": [
        "interpreter = tf.lite.Interpreter(model_path=tflite_save_path)\n",
        "interpreter.allocate_tensors()"
      ],
      "execution_count": 106,
      "outputs": []
    },
    {
      "cell_type": "code",
      "metadata": {
        "id": "oQuDK8YS9hE7"
      },
      "source": [
        "# Get I / O tensor\n",
        "input_details = interpreter.get_input_details()\n",
        "output_details = interpreter.get_output_details()"
      ],
      "execution_count": 107,
      "outputs": []
    },
    {
      "cell_type": "code",
      "metadata": {
        "id": "2_ixAf_l9hE7"
      },
      "source": [
        "interpreter.set_tensor(input_details[0]['index'], np.array([X_test[0]]))"
      ],
      "execution_count": 108,
      "outputs": []
    },
    {
      "cell_type": "code",
      "metadata": {
        "scrolled": true,
        "id": "s4FoAnuc9hE7",
        "colab": {
          "base_uri": "https://localhost:8080/"
        },
        "outputId": "91f18257-8d8b-4ef3-c558-e9b5f94fabbf"
      },
      "source": [
        "%%time\n",
        "# Inference implementation\n",
        "interpreter.invoke()\n",
        "tflite_results = interpreter.get_tensor(output_details[0]['index'])"
      ],
      "execution_count": 109,
      "outputs": [
        {
          "output_type": "stream",
          "name": "stdout",
          "text": [
            "CPU times: user 48 µs, sys: 4 µs, total: 52 µs\nWall time: 57.2 µs\n"
          ]
        }
      ]
    },
    {
      "cell_type": "code",
      "metadata": {
        "id": "vONjp19J9hE8",
        "colab": {
          "base_uri": "https://localhost:8080/"
        },
        "outputId": "77205e24-fd00-42c4-f7b6-e06e527c2cba"
      },
      "source": [
        "print(np.squeeze(tflite_results))\n",
        "print(np.argmax(np.squeeze(tflite_results)))"
      ],
      "execution_count": 110,
      "outputs": [
        {
          "output_type": "stream",
          "name": "stdout",
          "text": [
            "[6.8502146e-01 1.4378973e-03 2.9750950e-06 4.0897434e-05 3.1349680e-01]\n0\n"
          ]
        }
      ]
    }
  ]
}